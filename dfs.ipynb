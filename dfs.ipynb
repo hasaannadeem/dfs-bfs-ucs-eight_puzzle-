{
 "cells": [
  {
   "cell_type": "code",
   "execution_count": 1,
   "metadata": {},
   "outputs": [
    {
     "name": "stdout",
     "output_type": "stream",
     "text": [
      "['a', 'b', 'd', 'i']\n"
     ]
    }
   ],
   "source": [
    "#start node: 'a', goal node: 'i'\n",
    "graph = { 'a' : set(['b', 'c']),\n",
    "          'b' : set(['d']),\n",
    "          'c' : set(['f']),\n",
    "          'd' : set(['i']),\n",
    "          'f' : set(['f']),\n",
    "          'i' : set(['i'])\n",
    "        }\n",
    "\n",
    "#sample output will be\n",
    "#path a-b-d-i, \n",
    "start = 'a'\n",
    "goal = 'i'\n",
    "\n",
    "visited = []\n",
    "path = []\n",
    "p = []\n",
    "def dfs(graph, node, goal):\n",
    "    if node not in visited:\n",
    "       \n",
    "        visited.append(node)\n",
    "        for neighbour in graph[node]:\n",
    "            dfs(graph, neighbour, goal)\n",
    "            path.extend(node)\n",
    "                \n",
    "dfs(graph, start, goal)\n",
    "check = 0\n",
    "for i in path:\n",
    "    if i == goal:\n",
    "        check = 1\n",
    "    if check == 1:\n",
    "        p.extend(i)\n",
    "    if i == start:\n",
    "        break\n",
    "p.reverse()\n",
    "print(p)"
   ]
  },
  {
   "cell_type": "code",
   "execution_count": null,
   "metadata": {},
   "outputs": [],
   "source": []
  }
 ],
 "metadata": {
  "kernelspec": {
   "display_name": "Python 3",
   "language": "python",
   "name": "python3"
  },
  "language_info": {
   "codemirror_mode": {
    "name": "ipython",
    "version": 3
   },
   "file_extension": ".py",
   "mimetype": "text/x-python",
   "name": "python",
   "nbconvert_exporter": "python",
   "pygments_lexer": "ipython3",
   "version": "3.7.4"
  }
 },
 "nbformat": 4,
 "nbformat_minor": 2
}
