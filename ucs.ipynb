{
 "cells": [
  {
   "cell_type": "code",
   "execution_count": 1,
   "metadata": {},
   "outputs": [
    {
     "ename": "IndentationError",
     "evalue": "expected an indented block (<ipython-input-1-a9c27998516c>, line 6)",
     "output_type": "error",
     "traceback": [
      "\u001b[1;36m  File \u001b[1;32m\"<ipython-input-1-a9c27998516c>\"\u001b[1;36m, line \u001b[1;32m6\u001b[0m\n\u001b[1;33m    def init__(self):\u001b[0m\n\u001b[1;37m      ^\u001b[0m\n\u001b[1;31mIndentationError\u001b[0m\u001b[1;31m:\u001b[0m expected an indented block\n"
     ]
    }
   ],
   "source": [
    "import copy\n",
    "import Queue as Q\n",
    "\n",
    "class Graph:\n",
    "\n",
    "def _init__(self):\n",
    "    self.graph = dict()\n",
    "    self.cost_dict=dict()\n",
    "    self.final_dict=dict()\n",
    "\n",
    "\n",
    "def addEdge(self,u,v,c):\n",
    "    \n",
    "    if u not in self.graph:\n",
    "        qu = Q.PriorityQueue()\n",
    "        self.graph.update({u:qu})\n",
    "\n",
    "    self.graph[u].put(v)\n",
    "    self.cost_dict.update({(u,v):c})\n",
    "    \n",
    "\n",
    "def tnode(self,n):\n",
    "    self.visited = [False]*n\n",
    "\n",
    "\n",
    "def UCS_util(self,s,visited,path,goal,value):\n",
    "     \n",
    "    path.append(s)\n",
    "    \n",
    "    visited[s]=True\n",
    "    \n",
    "    \n",
    "    if goal==s:\n",
    "        self.final_dict.update({tuple(path):value})\n",
    "        return\n",
    "    \n",
    "    \n",
    "    for i in self.graph[s].queue:\n",
    "        if visited[i]==False:\n",
    "            \n",
    "            \n",
    "            self.UCS_util(i,copy.deepcopy(visited),copy.deepcopy(path),goal,value + self.cost_dict[s,i])\n",
    "\n",
    "def UCS(self, s,goal):\n",
    "    self.visited[s] = True\n",
    "    \n",
    "    path=[s]\n",
    "    \n",
    "    for i in self.graph[s].queue:\n",
    "        if self.visited[i] == False:\n",
    "            \n",
    "            value = self.cost_dict[s,i]\n",
    "            self.UCS_util(i,copy.deepcopy(self.visited),copy.deepcopy(path),goal,value)\n",
    "\n",
    "\n",
    "def all_paths(self):\n",
    "    \n",
    "    if bool(self.final_dict):\n",
    "        print(\"All the paths: \")\n",
    "        for i in self.final_dict:\n",
    "            print \"path: \",i,\"cost: \",self.final_dict[i]\n",
    "    else:\n",
    "        print \"No Path exist between start and goal node\"\n",
    "\n",
    "\n",
    "def optimal_path(self):\n",
    "    if bool(self.final_dict):\n",
    "        print \"best path: \",min(self.final_dict, key=self.final_dict.get)\n",
    "    else:\n",
    "        print \"No Path exist between start and goal node\"\n"
   ]
  },
  {
   "cell_type": "code",
   "execution_count": null,
   "metadata": {},
   "outputs": [],
   "source": []
  },
  {
   "cell_type": "code",
   "execution_count": null,
   "metadata": {},
   "outputs": [],
   "source": []
  }
 ],
 "metadata": {
  "kernelspec": {
   "display_name": "Python 3",
   "language": "python",
   "name": "python3"
  },
  "language_info": {
   "codemirror_mode": {
    "name": "ipython",
    "version": 3
   },
   "file_extension": ".py",
   "mimetype": "text/x-python",
   "name": "python",
   "nbconvert_exporter": "python",
   "pygments_lexer": "ipython3",
   "version": "3.7.4"
  }
 },
 "nbformat": 4,
 "nbformat_minor": 2
}
